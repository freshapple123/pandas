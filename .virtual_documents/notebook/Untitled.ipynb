import pandas as pd


!pip install xlrd



df = pd.read_excel('지역별매장량.xls', sheet_name= 'Data 1', header = 2)

print(df.columns)
time_column = 'Date'
df[time_column] = pd.to_datetime(df[time_column])  # 시간 열을 datetime 형식으로 변환
df_date = df.set_index(time_column)  # 여기서 에러가 발생하지 않도록 문자열로 전달

# 결과 확인
print(df_date.head())


df





print(df_date)



# 딕셔너리로 변환
df = pd.DataFrame(list(data.items()), columns=["State", "Storage Capacity"])

# 'State' 컬럼에서 주 이름만 추출 (첫 번째 항목만 특별 처리)
df['State'] = df['State'].apply(lambda x: "U.S. Total" if "U.S. Total" in x else x.split()[0])

# 출력 결과 확인
print(df)


!pip install folium geopandas


import folium
import json

geojson_file = "map.geojson"
with open(geojson_file, 'r') as f:
    geo_data = json.load(f)

# 맵 생성
m = folium.Map(location=[37.0902, -95.7129], zoom_start=4)

# Choropleth 맵 추가
folium.Choropleth(
    geo_data=geo_data,
    name="choropleth",
    data=[(f["properties"]["name"], f["properties"]["density"]) for f in geo_data["features"]],
    columns=["name", "density"],
    key_on="feature.properties.name",
    fill_color="YlOrRd",  # 색상 스케일 (Yellow-Orange-Red)
    fill_opacity=0.7,
    line_opacity=0.2,
    legend_name="Population Density"
).add_to(m)

# 맵 표시
m


import folium
import json
import pandas as pd

# GeoJSON 파일 읽기
geojson_file = "map.geojson"
with open(geojson_file, 'r') as f:
    geo_data = json.load(f)

# GeoJSON 파일에 데이터 추가 (State 이름을 기준으로)
for feature in geo_data["features"]:
    state_name = feature["properties"]["name"]
    if state_name in df["State"].values:
        # Storage Capacity 값을 GeoJSON의 속성에 추가
        feature["properties"]["storage_capacity"] = df[df["State"] == state_name]["Storage Capacity"].values[0]

# GeoJSON 파일에 저장된 데이터 확인
# GeoJSON 데이터의 첫 번째 항목을 출력하여 저장된 값을 확인
print(geo_data["features"][0]["properties"])

# 맵 생성
m = folium.Map(location=[37.0902, -95.7129], zoom_start=4)

# Choropleth 맵 추가
folium.Choropleth(
    geo_data=geo_data,
    name="choropleth",
    data=[(f["properties"]["name"], f["properties"].get("storage_capacity", 0)) for f in geo_data["features"]],
    columns=["name", "storage_capacity"],
    key_on="feature.properties.name",
    fill_color="YlOrRd",  # 색상 스케일 (Yellow-Orange-Red)
    fill_opacity=0.7,
    line_opacity=0.2,
    legend_name="Storage Capacity"
).add_to(m)

# 맵 표시
m

