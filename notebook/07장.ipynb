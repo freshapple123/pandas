{
 "cells": [
  {
   "cell_type": "code",
   "execution_count": 3,
   "id": "bfb5048c-c9c4-47f4-b8d3-5046509462bb",
   "metadata": {},
   "outputs": [
    {
     "data": {
      "text/html": [
       "<div>\n",
       "<style scoped>\n",
       "    .dataframe tbody tr th:only-of-type {\n",
       "        vertical-align: middle;\n",
       "    }\n",
       "\n",
       "    .dataframe tbody tr th {\n",
       "        vertical-align: top;\n",
       "    }\n",
       "\n",
       "    .dataframe thead th {\n",
       "        text-align: right;\n",
       "    }\n",
       "</style>\n",
       "<table border=\"1\" class=\"dataframe\">\n",
       "  <thead>\n",
       "    <tr style=\"text-align: right;\">\n",
       "      <th></th>\n",
       "      <th>A</th>\n",
       "      <th>B</th>\n",
       "      <th>C</th>\n",
       "      <th>D</th>\n",
       "    </tr>\n",
       "  </thead>\n",
       "  <tbody>\n",
       "    <tr>\n",
       "      <th>0</th>\n",
       "      <td>a0</td>\n",
       "      <td>b0</td>\n",
       "      <td>c0</td>\n",
       "      <td>d0</td>\n",
       "    </tr>\n",
       "    <tr>\n",
       "      <th>1</th>\n",
       "      <td>a1</td>\n",
       "      <td>b1</td>\n",
       "      <td>c1</td>\n",
       "      <td>d1</td>\n",
       "    </tr>\n",
       "    <tr>\n",
       "      <th>2</th>\n",
       "      <td>a2</td>\n",
       "      <td>b2</td>\n",
       "      <td>c2</td>\n",
       "      <td>d2</td>\n",
       "    </tr>\n",
       "    <tr>\n",
       "      <th>3</th>\n",
       "      <td>a3</td>\n",
       "      <td>b3</td>\n",
       "      <td>c3</td>\n",
       "      <td>d3</td>\n",
       "    </tr>\n",
       "  </tbody>\n",
       "</table>\n",
       "</div>"
      ],
      "text/plain": [
       "    A   B   C   D\n",
       "0  a0  b0  c0  d0\n",
       "1  a1  b1  c1  d1\n",
       "2  a2  b2  c2  d2\n",
       "3  a3  b3  c3  d3"
      ]
     },
     "execution_count": 3,
     "metadata": {},
     "output_type": "execute_result"
    }
   ],
   "source": [
    "import pandas as pd\n",
    "\n",
    "df1 = pd.read_csv('../data/concat_1.csv')\n",
    "df2 = pd.read_csv('../data/concat_2.csv')\n",
    "df3 = pd.read_csv('../data/concat_3.csv')\n",
    "df1"
   ]
  },
  {
   "cell_type": "code",
   "execution_count": 5,
   "id": "782ae2a2-e297-4a9d-bfc1-e6fb8d3271e9",
   "metadata": {},
   "outputs": [
    {
     "data": {
      "text/html": [
       "<div>\n",
       "<style scoped>\n",
       "    .dataframe tbody tr th:only-of-type {\n",
       "        vertical-align: middle;\n",
       "    }\n",
       "\n",
       "    .dataframe tbody tr th {\n",
       "        vertical-align: top;\n",
       "    }\n",
       "\n",
       "    .dataframe thead th {\n",
       "        text-align: right;\n",
       "    }\n",
       "</style>\n",
       "<table border=\"1\" class=\"dataframe\">\n",
       "  <thead>\n",
       "    <tr style=\"text-align: right;\">\n",
       "      <th></th>\n",
       "      <th>A</th>\n",
       "      <th>B</th>\n",
       "      <th>C</th>\n",
       "      <th>D</th>\n",
       "    </tr>\n",
       "  </thead>\n",
       "  <tbody>\n",
       "    <tr>\n",
       "      <th>0</th>\n",
       "      <td>a4</td>\n",
       "      <td>b4</td>\n",
       "      <td>c4</td>\n",
       "      <td>d4</td>\n",
       "    </tr>\n",
       "    <tr>\n",
       "      <th>1</th>\n",
       "      <td>a5</td>\n",
       "      <td>b5</td>\n",
       "      <td>c5</td>\n",
       "      <td>d5</td>\n",
       "    </tr>\n",
       "    <tr>\n",
       "      <th>2</th>\n",
       "      <td>a6</td>\n",
       "      <td>b6</td>\n",
       "      <td>c6</td>\n",
       "      <td>d6</td>\n",
       "    </tr>\n",
       "    <tr>\n",
       "      <th>3</th>\n",
       "      <td>a7</td>\n",
       "      <td>b7</td>\n",
       "      <td>c7</td>\n",
       "      <td>d7</td>\n",
       "    </tr>\n",
       "  </tbody>\n",
       "</table>\n",
       "</div>"
      ],
      "text/plain": [
       "    A   B   C   D\n",
       "0  a4  b4  c4  d4\n",
       "1  a5  b5  c5  d5\n",
       "2  a6  b6  c6  d6\n",
       "3  a7  b7  c7  d7"
      ]
     },
     "execution_count": 5,
     "metadata": {},
     "output_type": "execute_result"
    }
   ],
   "source": [
    "df2 "
   ]
  },
  {
   "cell_type": "code",
   "execution_count": 7,
   "id": "3c3cfe1a-23ab-4a33-b673-399ccc234629",
   "metadata": {},
   "outputs": [
    {
     "data": {
      "text/html": [
       "<div>\n",
       "<style scoped>\n",
       "    .dataframe tbody tr th:only-of-type {\n",
       "        vertical-align: middle;\n",
       "    }\n",
       "\n",
       "    .dataframe tbody tr th {\n",
       "        vertical-align: top;\n",
       "    }\n",
       "\n",
       "    .dataframe thead th {\n",
       "        text-align: right;\n",
       "    }\n",
       "</style>\n",
       "<table border=\"1\" class=\"dataframe\">\n",
       "  <thead>\n",
       "    <tr style=\"text-align: right;\">\n",
       "      <th></th>\n",
       "      <th>A</th>\n",
       "      <th>B</th>\n",
       "      <th>C</th>\n",
       "      <th>D</th>\n",
       "    </tr>\n",
       "  </thead>\n",
       "  <tbody>\n",
       "    <tr>\n",
       "      <th>0</th>\n",
       "      <td>a8</td>\n",
       "      <td>b8</td>\n",
       "      <td>c8</td>\n",
       "      <td>d8</td>\n",
       "    </tr>\n",
       "    <tr>\n",
       "      <th>1</th>\n",
       "      <td>a9</td>\n",
       "      <td>b9</td>\n",
       "      <td>c9</td>\n",
       "      <td>d9</td>\n",
       "    </tr>\n",
       "    <tr>\n",
       "      <th>2</th>\n",
       "      <td>a10</td>\n",
       "      <td>b10</td>\n",
       "      <td>c10</td>\n",
       "      <td>d10</td>\n",
       "    </tr>\n",
       "    <tr>\n",
       "      <th>3</th>\n",
       "      <td>a11</td>\n",
       "      <td>b11</td>\n",
       "      <td>c11</td>\n",
       "      <td>d11</td>\n",
       "    </tr>\n",
       "  </tbody>\n",
       "</table>\n",
       "</div>"
      ],
      "text/plain": [
       "     A    B    C    D\n",
       "0   a8   b8   c8   d8\n",
       "1   a9   b9   c9   d9\n",
       "2  a10  b10  c10  d10\n",
       "3  a11  b11  c11  d11"
      ]
     },
     "execution_count": 7,
     "metadata": {},
     "output_type": "execute_result"
    }
   ],
   "source": [
    "df3"
   ]
  },
  {
   "cell_type": "code",
   "execution_count": 10,
   "id": "d91d06a3-13e5-4a97-a92d-5d350658bb4a",
   "metadata": {},
   "outputs": [
    {
     "data": {
      "text/html": [
       "<div>\n",
       "<style scoped>\n",
       "    .dataframe tbody tr th:only-of-type {\n",
       "        vertical-align: middle;\n",
       "    }\n",
       "\n",
       "    .dataframe tbody tr th {\n",
       "        vertical-align: top;\n",
       "    }\n",
       "\n",
       "    .dataframe thead th {\n",
       "        text-align: right;\n",
       "    }\n",
       "</style>\n",
       "<table border=\"1\" class=\"dataframe\">\n",
       "  <thead>\n",
       "    <tr style=\"text-align: right;\">\n",
       "      <th></th>\n",
       "      <th>A</th>\n",
       "      <th>B</th>\n",
       "      <th>C</th>\n",
       "      <th>D</th>\n",
       "    </tr>\n",
       "  </thead>\n",
       "  <tbody>\n",
       "    <tr>\n",
       "      <th>0</th>\n",
       "      <td>a0</td>\n",
       "      <td>b0</td>\n",
       "      <td>c0</td>\n",
       "      <td>d0</td>\n",
       "    </tr>\n",
       "    <tr>\n",
       "      <th>1</th>\n",
       "      <td>a1</td>\n",
       "      <td>b1</td>\n",
       "      <td>c1</td>\n",
       "      <td>d1</td>\n",
       "    </tr>\n",
       "    <tr>\n",
       "      <th>2</th>\n",
       "      <td>a2</td>\n",
       "      <td>b2</td>\n",
       "      <td>c2</td>\n",
       "      <td>d2</td>\n",
       "    </tr>\n",
       "    <tr>\n",
       "      <th>3</th>\n",
       "      <td>a3</td>\n",
       "      <td>b3</td>\n",
       "      <td>c3</td>\n",
       "      <td>d3</td>\n",
       "    </tr>\n",
       "    <tr>\n",
       "      <th>0</th>\n",
       "      <td>a4</td>\n",
       "      <td>b4</td>\n",
       "      <td>c4</td>\n",
       "      <td>d4</td>\n",
       "    </tr>\n",
       "    <tr>\n",
       "      <th>1</th>\n",
       "      <td>a5</td>\n",
       "      <td>b5</td>\n",
       "      <td>c5</td>\n",
       "      <td>d5</td>\n",
       "    </tr>\n",
       "    <tr>\n",
       "      <th>2</th>\n",
       "      <td>a6</td>\n",
       "      <td>b6</td>\n",
       "      <td>c6</td>\n",
       "      <td>d6</td>\n",
       "    </tr>\n",
       "    <tr>\n",
       "      <th>3</th>\n",
       "      <td>a7</td>\n",
       "      <td>b7</td>\n",
       "      <td>c7</td>\n",
       "      <td>d7</td>\n",
       "    </tr>\n",
       "    <tr>\n",
       "      <th>0</th>\n",
       "      <td>a8</td>\n",
       "      <td>b8</td>\n",
       "      <td>c8</td>\n",
       "      <td>d8</td>\n",
       "    </tr>\n",
       "    <tr>\n",
       "      <th>1</th>\n",
       "      <td>a9</td>\n",
       "      <td>b9</td>\n",
       "      <td>c9</td>\n",
       "      <td>d9</td>\n",
       "    </tr>\n",
       "    <tr>\n",
       "      <th>2</th>\n",
       "      <td>a10</td>\n",
       "      <td>b10</td>\n",
       "      <td>c10</td>\n",
       "      <td>d10</td>\n",
       "    </tr>\n",
       "    <tr>\n",
       "      <th>3</th>\n",
       "      <td>a11</td>\n",
       "      <td>b11</td>\n",
       "      <td>c11</td>\n",
       "      <td>d11</td>\n",
       "    </tr>\n",
       "  </tbody>\n",
       "</table>\n",
       "</div>"
      ],
      "text/plain": [
       "     A    B    C    D\n",
       "0   a0   b0   c0   d0\n",
       "1   a1   b1   c1   d1\n",
       "2   a2   b2   c2   d2\n",
       "3   a3   b3   c3   d3\n",
       "0   a4   b4   c4   d4\n",
       "1   a5   b5   c5   d5\n",
       "2   a6   b6   c6   d6\n",
       "3   a7   b7   c7   d7\n",
       "0   a8   b8   c8   d8\n",
       "1   a9   b9   c9   d9\n",
       "2  a10  b10  c10  d10\n",
       "3  a11  b11  c11  d11"
      ]
     },
     "execution_count": 10,
     "metadata": {},
     "output_type": "execute_result"
    }
   ],
   "source": [
    "row_concat = pd.concat([df1, df2, df3])\n",
    "row_concat"
   ]
  },
  {
   "cell_type": "code",
   "execution_count": 16,
   "id": "fb9f540f-9ade-4108-a285-0724cf872a4d",
   "metadata": {},
   "outputs": [
    {
     "name": "stdout",
     "output_type": "stream",
     "text": [
      "0    n1\n",
      "1    n2\n",
      "2    n3\n",
      "3    n4\n",
      "dtype: object\n"
     ]
    }
   ],
   "source": [
    "new_row_series = pd.Series(['n1', 'n2', 'n3', 'n4'])\n",
    "print(new_row_series)"
   ]
  },
  {
   "cell_type": "code",
   "execution_count": 19,
   "id": "acf42613-5f1d-4990-831c-36f2d40eae63",
   "metadata": {},
   "outputs": [
    {
     "name": "stdout",
     "output_type": "stream",
     "text": [
      "     A    B    C    D    0\n",
      "0   a0   b0   c0   d0  NaN\n",
      "1   a1   b1   c1   d1  NaN\n",
      "2   a2   b2   c2   d2  NaN\n",
      "3   a3   b3   c3   d3  NaN\n",
      "0  NaN  NaN  NaN  NaN   n1\n",
      "1  NaN  NaN  NaN  NaN   n2\n",
      "2  NaN  NaN  NaN  NaN   n3\n",
      "3  NaN  NaN  NaN  NaN   n4\n"
     ]
    }
   ],
   "source": [
    "print(pd.concat([df1, new_row_series]))"
   ]
  },
  {
   "cell_type": "code",
   "execution_count": 97,
   "id": "68f449d1-e309-4db8-ac99-9f1fd527f737",
   "metadata": {},
   "outputs": [],
   "source": [
    "from pathlib import Path\n"
   ]
  },
  {
   "cell_type": "code",
   "execution_count": 99,
   "id": "15757b7e-88e1-474c-b4b5-3876332573f7",
   "metadata": {},
   "outputs": [],
   "source": [
    "billboard_data_files=Path(\".\").glob('../data/billboard_by_week/billboard-*.csv')\n",
    "billboard_data_files = sorted(list(billboard_data_files))"
   ]
  },
  {
   "cell_type": "code",
   "execution_count": 101,
   "id": "60913f0e-b721-4051-8529-3005a3298246",
   "metadata": {
    "scrolled": true
   },
   "outputs": [
    {
     "data": {
      "text/plain": [
       "[WindowsPath('../data/billboard_by_week/billboard-01.csv'),\n",
       " WindowsPath('../data/billboard_by_week/billboard-02.csv'),\n",
       " WindowsPath('../data/billboard_by_week/billboard-03.csv'),\n",
       " WindowsPath('../data/billboard_by_week/billboard-04.csv'),\n",
       " WindowsPath('../data/billboard_by_week/billboard-05.csv'),\n",
       " WindowsPath('../data/billboard_by_week/billboard-06.csv'),\n",
       " WindowsPath('../data/billboard_by_week/billboard-07.csv'),\n",
       " WindowsPath('../data/billboard_by_week/billboard-08.csv'),\n",
       " WindowsPath('../data/billboard_by_week/billboard-09.csv'),\n",
       " WindowsPath('../data/billboard_by_week/billboard-10.csv'),\n",
       " WindowsPath('../data/billboard_by_week/billboard-11.csv'),\n",
       " WindowsPath('../data/billboard_by_week/billboard-12.csv'),\n",
       " WindowsPath('../data/billboard_by_week/billboard-13.csv'),\n",
       " WindowsPath('../data/billboard_by_week/billboard-14.csv'),\n",
       " WindowsPath('../data/billboard_by_week/billboard-15.csv'),\n",
       " WindowsPath('../data/billboard_by_week/billboard-16.csv'),\n",
       " WindowsPath('../data/billboard_by_week/billboard-17.csv'),\n",
       " WindowsPath('../data/billboard_by_week/billboard-18.csv'),\n",
       " WindowsPath('../data/billboard_by_week/billboard-19.csv'),\n",
       " WindowsPath('../data/billboard_by_week/billboard-20.csv'),\n",
       " WindowsPath('../data/billboard_by_week/billboard-21.csv'),\n",
       " WindowsPath('../data/billboard_by_week/billboard-22.csv'),\n",
       " WindowsPath('../data/billboard_by_week/billboard-23.csv'),\n",
       " WindowsPath('../data/billboard_by_week/billboard-24.csv'),\n",
       " WindowsPath('../data/billboard_by_week/billboard-25.csv'),\n",
       " WindowsPath('../data/billboard_by_week/billboard-26.csv'),\n",
       " WindowsPath('../data/billboard_by_week/billboard-27.csv'),\n",
       " WindowsPath('../data/billboard_by_week/billboard-28.csv'),\n",
       " WindowsPath('../data/billboard_by_week/billboard-29.csv'),\n",
       " WindowsPath('../data/billboard_by_week/billboard-30.csv'),\n",
       " WindowsPath('../data/billboard_by_week/billboard-31.csv'),\n",
       " WindowsPath('../data/billboard_by_week/billboard-32.csv'),\n",
       " WindowsPath('../data/billboard_by_week/billboard-33.csv'),\n",
       " WindowsPath('../data/billboard_by_week/billboard-34.csv'),\n",
       " WindowsPath('../data/billboard_by_week/billboard-35.csv'),\n",
       " WindowsPath('../data/billboard_by_week/billboard-36.csv'),\n",
       " WindowsPath('../data/billboard_by_week/billboard-37.csv'),\n",
       " WindowsPath('../data/billboard_by_week/billboard-38.csv'),\n",
       " WindowsPath('../data/billboard_by_week/billboard-39.csv'),\n",
       " WindowsPath('../data/billboard_by_week/billboard-40.csv'),\n",
       " WindowsPath('../data/billboard_by_week/billboard-41.csv'),\n",
       " WindowsPath('../data/billboard_by_week/billboard-42.csv'),\n",
       " WindowsPath('../data/billboard_by_week/billboard-43.csv'),\n",
       " WindowsPath('../data/billboard_by_week/billboard-44.csv'),\n",
       " WindowsPath('../data/billboard_by_week/billboard-45.csv'),\n",
       " WindowsPath('../data/billboard_by_week/billboard-46.csv'),\n",
       " WindowsPath('../data/billboard_by_week/billboard-47.csv'),\n",
       " WindowsPath('../data/billboard_by_week/billboard-48.csv'),\n",
       " WindowsPath('../data/billboard_by_week/billboard-49.csv'),\n",
       " WindowsPath('../data/billboard_by_week/billboard-50.csv'),\n",
       " WindowsPath('../data/billboard_by_week/billboard-51.csv'),\n",
       " WindowsPath('../data/billboard_by_week/billboard-52.csv'),\n",
       " WindowsPath('../data/billboard_by_week/billboard-53.csv'),\n",
       " WindowsPath('../data/billboard_by_week/billboard-54.csv'),\n",
       " WindowsPath('../data/billboard_by_week/billboard-55.csv'),\n",
       " WindowsPath('../data/billboard_by_week/billboard-56.csv'),\n",
       " WindowsPath('../data/billboard_by_week/billboard-57.csv'),\n",
       " WindowsPath('../data/billboard_by_week/billboard-58.csv'),\n",
       " WindowsPath('../data/billboard_by_week/billboard-59.csv'),\n",
       " WindowsPath('../data/billboard_by_week/billboard-60.csv'),\n",
       " WindowsPath('../data/billboard_by_week/billboard-61.csv'),\n",
       " WindowsPath('../data/billboard_by_week/billboard-62.csv'),\n",
       " WindowsPath('../data/billboard_by_week/billboard-63.csv'),\n",
       " WindowsPath('../data/billboard_by_week/billboard-64.csv'),\n",
       " WindowsPath('../data/billboard_by_week/billboard-65.csv'),\n",
       " WindowsPath('../data/billboard_by_week/billboard-66.csv'),\n",
       " WindowsPath('../data/billboard_by_week/billboard-67.csv'),\n",
       " WindowsPath('../data/billboard_by_week/billboard-68.csv'),\n",
       " WindowsPath('../data/billboard_by_week/billboard-69.csv'),\n",
       " WindowsPath('../data/billboard_by_week/billboard-70.csv'),\n",
       " WindowsPath('../data/billboard_by_week/billboard-71.csv'),\n",
       " WindowsPath('../data/billboard_by_week/billboard-72.csv'),\n",
       " WindowsPath('../data/billboard_by_week/billboard-73.csv'),\n",
       " WindowsPath('../data/billboard_by_week/billboard-74.csv'),\n",
       " WindowsPath('../data/billboard_by_week/billboard-75.csv'),\n",
       " WindowsPath('../data/billboard_by_week/billboard-76.csv')]"
      ]
     },
     "execution_count": 101,
     "metadata": {},
     "output_type": "execute_result"
    }
   ],
   "source": [
    "billboard_data_files"
   ]
  },
  {
   "cell_type": "code",
   "execution_count": 104,
   "id": "69ab4d4b-29e7-4f97-aec6-b07a4a109c64",
   "metadata": {},
   "outputs": [],
   "source": [
    "billboard_data_files = list(billboard_data_files)"
   ]
  },
  {
   "cell_type": "code",
   "execution_count": 107,
   "id": "4165fa10-19a6-4a72-a331-d0b4d8ccd2bc",
   "metadata": {
    "collapsed": true,
    "jupyter": {
     "outputs_hidden": true
    }
   },
   "outputs": [
    {
     "name": "stdout",
     "output_type": "stream",
     "text": [
      "     year            artist                    track  time date.entered week  \\\n",
      "0    2000             2 Pac  Baby Don't Cry (Keep...  4:22   2000-02-26  wk1   \n",
      "1    2000           2Ge+her  The Hardest Part Of ...  3:15   2000-09-02  wk1   \n",
      "2    2000      3 Doors Down               Kryptonite  3:53   2000-04-08  wk1   \n",
      "3    2000      3 Doors Down                    Loser  4:24   2000-10-21  wk1   \n",
      "4    2000          504 Boyz            Wobble Wobble  3:35   2000-04-15  wk1   \n",
      "..    ...               ...                      ...   ...          ...  ...   \n",
      "312  2000       Yankee Grey     Another Nine Minutes  3:10   2000-04-29  wk1   \n",
      "313  2000  Yearwood, Trisha          Real Live Woman  3:55   2000-04-01  wk1   \n",
      "314  2000   Ying Yang Twins  Whistle While You Tw...  4:19   2000-03-18  wk1   \n",
      "315  2000     Zombie Nation            Kernkraft 400  3:30   2000-09-02  wk1   \n",
      "316  2000   matchbox twenty                     Bent  4:12   2000-04-29  wk1   \n",
      "\n",
      "     rating  \n",
      "0      87.0  \n",
      "1      91.0  \n",
      "2      81.0  \n",
      "3      76.0  \n",
      "4      57.0  \n",
      "..      ...  \n",
      "312    86.0  \n",
      "313    85.0  \n",
      "314    95.0  \n",
      "315    99.0  \n",
      "316    60.0  \n",
      "\n",
      "[317 rows x 7 columns]\n"
     ]
    }
   ],
   "source": [
    "billboard01 = pd.read_csv(billboard_data_files[0])\n",
    "billboard02 = pd.read_csv(billboard_data_files[1])\n",
    "billboard03 = pd.read_csv(billboard_data_files[2])\n",
    "print(billboard01)"
   ]
  },
  {
   "cell_type": "code",
   "execution_count": 113,
   "id": "295b9352-056d-43ee-92d3-3865bd0d7f42",
   "metadata": {},
   "outputs": [
    {
     "name": "stdout",
     "output_type": "stream",
     "text": [
      "(317, 7)\n",
      "(317, 7)\n",
      "(317, 7)\n"
     ]
    }
   ],
   "source": [
    "# 각 데이터프레임의 shape 확인\n",
    "print(billboard01.shape)\n",
    "print(billboard02.shape)\n",
    "print(billboard03.shape)"
   ]
  },
  {
   "cell_type": "code",
   "execution_count": null,
   "id": "22582925-6e8f-4553-9f33-b0e9d182bdbc",
   "metadata": {},
   "outputs": [],
   "source": [
    "billboard = pd.concat([billboard01, billboard02, billboard03])\n",
    "# 연결한 데이터프레임의 shape 확인\n",
    "print(billboard.shape)"
   ]
  },
  {
   "cell_type": "code",
   "execution_count": null,
   "id": "8b38cbf1-c309-4331-bba5-ab4a239153c9",
   "metadata": {},
   "outputs": [],
   "source": []
  }
 ],
 "metadata": {
  "kernelspec": {
   "display_name": "Python 3 (ipykernel)",
   "language": "python",
   "name": "python3"
  },
  "language_info": {
   "codemirror_mode": {
    "name": "ipython",
    "version": 3
   },
   "file_extension": ".py",
   "mimetype": "text/x-python",
   "name": "python",
   "nbconvert_exporter": "python",
   "pygments_lexer": "ipython3",
   "version": "3.12.7"
  }
 },
 "nbformat": 4,
 "nbformat_minor": 5
}
